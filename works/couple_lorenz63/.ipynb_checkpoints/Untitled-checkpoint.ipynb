{
 "cells": [
  {
   "cell_type": "code",
   "execution_count": 27,
   "metadata": {
    "collapsed": false
   },
   "outputs": [],
   "source": [
    "#!/usr/bin/env python\n",
    "\n",
    "import numpy as np\n",
    "import matplotlib as mpl\n",
    "# mpl.use('Agg')\n",
    "import matplotlib.pyplot as plt\n",
    "import os, warnings\n",
    "from mpl_toolkits.mplot3d import Axes3D\n",
    "from Py.const import *\n",
    "\n",
    "def plot_le():\n",
    "  # plot lyapunov exponents\n",
    "  hist_ble = np.fromfile(\"data/ble.bin\", np.float64)\n",
    "  hist_fle = np.fromfile(\"data/fle.bin\", np.float64)\n",
    "  hist_fse = np.fromfile(\"data/fse.bin\", np.float64)\n",
    "  hist_ise = np.fromfile(\"data/ise.bin\", np.float64)\n",
    "\n",
    "  hist_ble = hist_ble.reshape((STEPS, DIMM))\n",
    "  hist_fle = hist_fle.reshape((STEPS, DIMM))\n",
    "  hist_fse = hist_fse.reshape((STEPS, DIMM))\n",
    "  hist_ise = hist_ise.reshape((STEPS, DIMM))\n",
    "\n",
    "  mean_ble = np.mean(hist_ble[STEPS//2:,:], axis=0)\n",
    "  mean_fle = np.mean(hist_fle[STEPS//2:,:], axis=0)\n",
    "  mean_fse = np.mean(hist_fse[STEPS//2:,:], axis=0)\n",
    "  mean_ise = np.mean(hist_ise[STEPS//2:,:], axis=0)\n",
    "\n",
    "  plt.rcParams[\"font.size\"] = 12\n",
    "  fig, ax1 = plt.subplots(1)\n",
    "  ax1.set_title(\"Lyapunov exponents\")\n",
    "  ax1.plot(mean_ble, label=\"Backward Lyap.\")\n",
    "  ax1.plot(mean_fle, label=\"Forward Lyap.\")\n",
    "  ax1.plot(mean_fse, label=\"mean Singular\")\n",
    "  # ax1.plot(mean_ise, label=\"Initial Singular\")\n",
    "  ax1.set_ylabel(\"1 / Time\")\n",
    "  ax1.set_xlabel(\"LE index\")\n",
    "  ax1.legend()\n",
    "  # plt.savefig(\"./image/true/le.png\")\n",
    "  plt.show()\n",
    "  plt.clf()\n",
    "  plt.close()\n"
   ]
  },
  {
   "cell_type": "code",
   "execution_count": 28,
   "metadata": {
    "collapsed": false
   },
   "outputs": [
    {
     "ename": "NameError",
     "evalue": "name 'hist_true' is not defined",
     "output_type": "error",
     "traceback": [
      "\u001b[0;31m---------------------------------------------------------------------------\u001b[0m",
      "\u001b[0;31mNameError\u001b[0m                                 Traceback (most recent call last)",
      "\u001b[0;32m<ipython-input-28-45f9eae7a120>\u001b[0m in \u001b[0;36m<module>\u001b[0;34m()\u001b[0m\n\u001b[0;32m----> 1\u001b[0;31m \u001b[0mhist_true\u001b[0m \u001b[0;34m=\u001b[0m \u001b[0mhist_true\u001b[0m\u001b[0;34m.\u001b[0m\u001b[0mreshape\u001b[0m\u001b[0;34m(\u001b[0m\u001b[0;34m(\u001b[0m\u001b[0mSTEPS\u001b[0m\u001b[0;34m,\u001b[0m \u001b[0mDIMM\u001b[0m\u001b[0;34m)\u001b[0m\u001b[0;34m)\u001b[0m\u001b[0;34m\u001b[0m\u001b[0m\n\u001b[0m\u001b[1;32m      2\u001b[0m \u001b[0mvectors\u001b[0m \u001b[0;34m=\u001b[0m \u001b[0;34m[\u001b[0m\u001b[0;34m\"blv\"\u001b[0m\u001b[0;34m,\u001b[0m \u001b[0;34m\"flv\"\u001b[0m\u001b[0;34m,\u001b[0m \u001b[0;34m\"clv\"\u001b[0m\u001b[0;34m,\u001b[0m \u001b[0;34m\"fsv\"\u001b[0m\u001b[0;34m,\u001b[0m \u001b[0;34m\"isv\"\u001b[0m\u001b[0;34m]\u001b[0m\u001b[0;34m\u001b[0m\u001b[0m\n\u001b[1;32m      3\u001b[0m \u001b[0mvector_name\u001b[0m \u001b[0;34m=\u001b[0m \u001b[0;34m{\u001b[0m\u001b[0;34m\"blv\"\u001b[0m\u001b[0;34m:\u001b[0m \u001b[0;34m\"Backward_LV\"\u001b[0m\u001b[0;34m,\u001b[0m \u001b[0;34m\"flv\"\u001b[0m\u001b[0;34m:\u001b[0m \u001b[0;34m\"Forward_LV\"\u001b[0m\u001b[0;34m,\u001b[0m \u001b[0;34m\"clv\"\u001b[0m\u001b[0;34m:\u001b[0m \u001b[0;34m\"Characteristic_LV\"\u001b[0m\u001b[0;34m,\u001b[0m              \u001b[0;34m\"fsv\"\u001b[0m\u001b[0;34m:\u001b[0m \u001b[0;34m\"Final_SV\"\u001b[0m\u001b[0;34m,\u001b[0m \u001b[0;34m\"isv\"\u001b[0m\u001b[0;34m:\u001b[0m \u001b[0;34m\"Initial_SV\"\u001b[0m\u001b[0;34m}\u001b[0m\u001b[0;34m\u001b[0m\u001b[0m\n\u001b[1;32m      4\u001b[0m \u001b[0mhist_vector\u001b[0m \u001b[0;34m=\u001b[0m \u001b[0;34m{\u001b[0m\u001b[0;34m}\u001b[0m\u001b[0;34m\u001b[0m\u001b[0m\n\u001b[1;32m      5\u001b[0m \u001b[0;32mfor\u001b[0m \u001b[0mvec\u001b[0m \u001b[0;32min\u001b[0m \u001b[0mvectors\u001b[0m\u001b[0;34m:\u001b[0m\u001b[0;34m\u001b[0m\u001b[0m\n",
      "\u001b[0;31mNameError\u001b[0m: name 'hist_true' is not defined"
     ]
    }
   ],
   "source": [
    "hist_true = np.fromfile(\"data/true.bin\", np.float64)\n",
    "hist_true = hist_true.reshape((STEPS, DIMM))\n",
    "vectors = [\"blv\", \"flv\", \"clv\", \"fsv\", \"isv\"]\n",
    "vector_name = {\"blv\": \"Backward_LV\", \"flv\": \"Forward_LV\", \"clv\": \"Characteristic_LV\", \\\n",
    "             \"fsv\": \"Final_SV\", \"isv\": \"Initial_SV\"}\n",
    "hist_vector = {}\n",
    "for vec in vectors:\n",
    "    hist_vector[vec] = np.fromfile(\"data/%s.bin\" % vec, np.float64)\n",
    "    hist_vector[vec] = hist_vector[vec].reshape((STEPS, DIMM, DIMM))\n",
    "\n",
    "os.system(\"mkdir -p image/true\")\n",
    "\n",
    "plot_le()"
   ]
  },
  {
   "cell_type": "code",
   "execution_count": null,
   "metadata": {
    "collapsed": true
   },
   "outputs": [],
   "source": []
  }
 ],
 "metadata": {
  "kernelspec": {
   "display_name": "Python 3",
   "language": "python",
   "name": "python3"
  },
  "language_info": {
   "codemirror_mode": {
    "name": "ipython",
    "version": 3
   },
   "file_extension": ".py",
   "mimetype": "text/x-python",
   "name": "python",
   "nbconvert_exporter": "python",
   "pygments_lexer": "ipython3",
   "version": "3.6.0"
  }
 },
 "nbformat": 4,
 "nbformat_minor": 2
}
